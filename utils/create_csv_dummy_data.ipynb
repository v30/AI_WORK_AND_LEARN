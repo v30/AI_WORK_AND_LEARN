{
 "cells": [
  {
   "cell_type": "code",
   "execution_count": 2,
   "id": "14232e4f",
   "metadata": {},
   "outputs": [
    {
     "name": "stdout",
     "output_type": "stream",
     "text": [
      "CSV file 'dummy_study_data.csv' created successfully.\n"
     ]
    }
   ],
   "source": [
    "import pandas as pd\n",
    "import numpy as np\n",
    "\n",
    "# Set a seed for reproducibility\n",
    "np.random.seed(42)\n",
    "\n",
    "# Generate 100 random study times between 0.5 and 12 hours\n",
    "study_hours = np.round(np.random.uniform(0.5, 12, 100), 2)\n",
    "\n",
    "# Generate percentiles based on a loose correlation to study time\n",
    "# Add some noise to make it more realistic\n",
    "noise = np.random.normal(0, 10, 100)\n",
    "percentiles = np.clip((study_hours * 7) + noise, 1, 100).astype(int)\n",
    "\n",
    "# Create the DataFrame\n",
    "df = pd.DataFrame({\n",
    "    'Time Studied (hours)': study_hours,\n",
    "    'Percentile Reached': percentiles\n",
    "})\n",
    "\n",
    "# Save to CSV\n",
    "df.to_csv('../data/dummy_study_data.csv', index=False)\n",
    "\n",
    "print(\"CSV file 'dummy_study_data.csv' created successfully.\")"
   ]
  }
 ],
 "metadata": {
  "kernelspec": {
   "display_name": "base",
   "language": "python",
   "name": "python3"
  },
  "language_info": {
   "codemirror_mode": {
    "name": "ipython",
    "version": 3
   },
   "file_extension": ".py",
   "mimetype": "text/x-python",
   "name": "python",
   "nbconvert_exporter": "python",
   "pygments_lexer": "ipython3",
   "version": "3.12.3"
  }
 },
 "nbformat": 4,
 "nbformat_minor": 5
}
