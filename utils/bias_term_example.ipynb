{
 "cells": [
  {
   "cell_type": "code",
   "execution_count": 6,
   "id": "7696d8d0",
   "metadata": {},
   "outputs": [
    {
     "name": "stdout",
     "output_type": "stream",
     "text": [
      "[[-4]\n",
      " [ 1]]\n",
      "[[1]]\n"
     ]
    }
   ],
   "source": [
    "import numpy as np\n",
    "\n",
    "def sigmoid(z):\n",
    "    return 1 / (1 + np.exp(-z))\n",
    "\n",
    "# Sample feature: hours studied\n",
    "X = np.array([[1], [2], [3], [4], [5]])\n",
    "\n",
    "# Labels: 0 = fail, 1 = pass\n",
    "y = np.array([[0], [0], [0], [1], [1]])\n",
    "\n",
    "# Weights with bias term\n",
    "weights_with_bias = np.array([[-4], [1]])   # bias = -4, weight = 1\n",
    "print(weights_with_bias)\n",
    "\n",
    "# Weights without bias term\n",
    "weights_no_bias = np.array([[1]])           # just the weight\n",
    "print(weights_no_bias)"
   ]
  },
  {
   "cell_type": "code",
   "execution_count": 7,
   "id": "772a8fc0",
   "metadata": {},
   "outputs": [
    {
     "name": "stdout",
     "output_type": "stream",
     "text": [
      "[[1. 1.]\n",
      " [1. 2.]\n",
      " [1. 3.]\n",
      " [1. 4.]\n",
      " [1. 5.]]\n",
      "[[-3.]\n",
      " [-2.]\n",
      " [-1.]\n",
      " [ 0.]\n",
      " [ 1.]]\n",
      "[[0.04742587]\n",
      " [0.11920292]\n",
      " [0.26894142]\n",
      " [0.5       ]\n",
      " [0.73105858]]\n"
     ]
    }
   ],
   "source": [
    "# Add bias column of 1s\n",
    "X_bias = np.c_[np.ones((X.shape[0], 1)), X]\n",
    "z_with_bias = X_bias @ weights_with_bias\n",
    "pred_with_bias = sigmoid(z_with_bias)\n",
    "\n",
    "print(X_bias)\n",
    "print(z_with_bias)\n",
    "print(pred_with_bias)"
   ]
  },
  {
   "cell_type": "code",
   "execution_count": 9,
   "id": "c0135a38",
   "metadata": {},
   "outputs": [
    {
     "name": "stdout",
     "output_type": "stream",
     "text": [
      "[[1]\n",
      " [2]\n",
      " [3]\n",
      " [4]\n",
      " [5]]\n",
      "[[0.73105858]\n",
      " [0.88079708]\n",
      " [0.95257413]\n",
      " [0.98201379]\n",
      " [0.99330715]]\n"
     ]
    }
   ],
   "source": [
    "z_no_bias = X @ weights_no_bias\n",
    "pred_no_bias = sigmoid(z_no_bias)\n",
    "\n",
    "print(z_no_bias)\n",
    "print(pred_no_bias)"
   ]
  }
 ],
 "metadata": {
  "kernelspec": {
   "display_name": "base",
   "language": "python",
   "name": "python3"
  },
  "language_info": {
   "codemirror_mode": {
    "name": "ipython",
    "version": 3
   },
   "file_extension": ".py",
   "mimetype": "text/x-python",
   "name": "python",
   "nbconvert_exporter": "python",
   "pygments_lexer": "ipython3",
   "version": "3.12.3"
  }
 },
 "nbformat": 4,
 "nbformat_minor": 5
}
