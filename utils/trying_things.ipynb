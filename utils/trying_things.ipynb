{
 "cells": [
  {
   "cell_type": "code",
   "execution_count": 14,
   "id": "3e20ff55",
   "metadata": {},
   "outputs": [
    {
     "name": "stdout",
     "output_type": "stream",
     "text": [
      "[['feature1' 'feature2']\n",
      " ['feature1' 'feature2']\n",
      " ['feature1' 'feature2']\n",
      " ['feature1' 'feature2']\n",
      " ['feature1' 'feature2']]\n",
      "[1. 1. 1. 1. 1.]\n",
      "[0. 0. 0. 0. 0.]\n",
      "[['1.0' 'feature1' 'feature2']\n",
      " ['1.0' 'feature1' 'feature2']\n",
      " ['1.0' 'feature1' 'feature2']\n",
      " ['1.0' 'feature1' 'feature2']\n",
      " ['1.0' 'feature1' 'feature2']]\n"
     ]
    }
   ],
   "source": [
    "import numpy as np\n",
    "\n",
    "X = np.array([[\"feature1\", \"feature2\"], [\"feature1\", \"feature2\"], [\"feature1\", \"feature2\"], [\"feature1\", \"feature2\"], [\"feature1\", \"feature2\"]])\n",
    "print(X)\n",
    "\n",
    "ones = np.ones(5)\n",
    "print(ones)\n",
    "\n",
    "zeros = np.zeros(5)\n",
    "print(zeros)\n",
    "\n",
    "bias = np.c_[np.ones((X.shape[0],1)), X]\n",
    "print(bias)"
   ]
  }
 ],
 "metadata": {
  "kernelspec": {
   "display_name": "base",
   "language": "python",
   "name": "python3"
  },
  "language_info": {
   "codemirror_mode": {
    "name": "ipython",
    "version": 3
   },
   "file_extension": ".py",
   "mimetype": "text/x-python",
   "name": "python",
   "nbconvert_exporter": "python",
   "pygments_lexer": "ipython3",
   "version": "3.12.3"
  }
 },
 "nbformat": 4,
 "nbformat_minor": 5
}
