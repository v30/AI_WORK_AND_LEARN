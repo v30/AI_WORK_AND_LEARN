{
 "cells": [
  {
   "cell_type": "code",
   "execution_count": 1,
   "id": "af95c072",
   "metadata": {},
   "outputs": [
    {
     "name": "stdout",
     "output_type": "stream",
     "text": [
      "Collecting ai-benchmark\n",
      "  Downloading ai_benchmark-0.1.2-py3-none-any.whl.metadata (5.0 kB)\n",
      "Requirement already satisfied: numpy in c:\\users\\gebruiker\\anaconda3\\lib\\site-packages (from ai-benchmark) (1.26.4)\n",
      "Requirement already satisfied: psutil in c:\\users\\gebruiker\\anaconda3\\lib\\site-packages (from ai-benchmark) (5.9.0)\n",
      "Requirement already satisfied: py-cpuinfo in c:\\users\\gebruiker\\anaconda3\\lib\\site-packages (from ai-benchmark) (9.0.0)\n",
      "Requirement already satisfied: pillow in c:\\users\\gebruiker\\anaconda3\\lib\\site-packages (from ai-benchmark) (10.4.0)\n",
      "Requirement already satisfied: setuptools in c:\\users\\gebruiker\\anaconda3\\lib\\site-packages (from ai-benchmark) (75.1.0)\n",
      "Requirement already satisfied: requests in c:\\users\\gebruiker\\anaconda3\\lib\\site-packages (from ai-benchmark) (2.32.3)\n",
      "Requirement already satisfied: charset-normalizer<4,>=2 in c:\\users\\gebruiker\\anaconda3\\lib\\site-packages (from requests->ai-benchmark) (3.3.2)\n",
      "Requirement already satisfied: idna<4,>=2.5 in c:\\users\\gebruiker\\anaconda3\\lib\\site-packages (from requests->ai-benchmark) (3.7)\n",
      "Requirement already satisfied: urllib3<3,>=1.21.1 in c:\\users\\gebruiker\\anaconda3\\lib\\site-packages (from requests->ai-benchmark) (2.2.3)\n",
      "Requirement already satisfied: certifi>=2017.4.17 in c:\\users\\gebruiker\\anaconda3\\lib\\site-packages (from requests->ai-benchmark) (2025.4.26)\n",
      "Downloading ai_benchmark-0.1.2-py3-none-any.whl (21.5 MB)\n",
      "   ---------------------------------------- 0.0/21.5 MB ? eta -:--:--\n",
      "   -------------------------- ------------- 14.2/21.5 MB 80.8 MB/s eta 0:00:01\n",
      "   ---------------------------------------- 21.5/21.5 MB 71.7 MB/s eta 0:00:00\n",
      "Installing collected packages: ai-benchmark\n",
      "Successfully installed ai-benchmark-0.1.2\n"
     ]
    }
   ],
   "source": [
    "!pip install ai-benchmark\n",
    "\n"
   ]
  },
  {
   "cell_type": "code",
   "execution_count": 2,
   "id": "10b0bc3c",
   "metadata": {},
   "outputs": [
    {
     "name": "stdout",
     "output_type": "stream",
     "text": [
      "\n",
      ">>   AI-Benchmark-v.0.1.2   \n",
      ">>   Let the AI Games begin..\n",
      "\n"
     ]
    },
    {
     "ename": "AttributeError",
     "evalue": "module 'numpy' has no attribute 'warnings'",
     "output_type": "error",
     "traceback": [
      "\u001b[1;31m---------------------------------------------------------------------------\u001b[0m",
      "\u001b[1;31mAttributeError\u001b[0m                            Traceback (most recent call last)",
      "Cell \u001b[1;32mIn[2], line 2\u001b[0m\n\u001b[0;32m      1\u001b[0m \u001b[38;5;28;01mfrom\u001b[39;00m \u001b[38;5;21;01mai_benchmark\u001b[39;00m \u001b[38;5;28;01mimport\u001b[39;00m AIBenchmark\n\u001b[1;32m----> 2\u001b[0m benchmark \u001b[38;5;241m=\u001b[39m AIBenchmark()\n\u001b[0;32m      3\u001b[0m results \u001b[38;5;241m=\u001b[39m benchmark\u001b[38;5;241m.\u001b[39mrun()\n",
      "File \u001b[1;32mc:\\Users\\Gebruiker\\anaconda3\\Lib\\site-packages\\ai_benchmark\\__init__.py:18\u001b[0m, in \u001b[0;36mAIBenchmark.__init__\u001b[1;34m(self, use_CPU, verbose_level)\u001b[0m\n\u001b[0;32m     15\u001b[0m \u001b[38;5;28;01mif\u001b[39;00m verbose_level \u001b[38;5;241m>\u001b[39m \u001b[38;5;241m0\u001b[39m:\n\u001b[0;32m     16\u001b[0m     printIntro()\n\u001b[1;32m---> 18\u001b[0m np\u001b[38;5;241m.\u001b[39mwarnings\u001b[38;5;241m.\u001b[39mfilterwarnings(\u001b[38;5;124m'\u001b[39m\u001b[38;5;124mignore\u001b[39m\u001b[38;5;124m'\u001b[39m)\n\u001b[0;32m     20\u001b[0m \u001b[38;5;28;01mtry\u001b[39;00m:\n\u001b[0;32m     22\u001b[0m     \u001b[38;5;28;01mif\u001b[39;00m verbose_level \u001b[38;5;241m<\u001b[39m \u001b[38;5;241m3\u001b[39m:\n",
      "File \u001b[1;32mc:\\Users\\Gebruiker\\anaconda3\\Lib\\site-packages\\numpy\\__init__.py:347\u001b[0m, in \u001b[0;36m__getattr__\u001b[1;34m(attr)\u001b[0m\n\u001b[0;32m    344\u001b[0m     \u001b[38;5;124m\"\u001b[39m\u001b[38;5;124mRemoved in NumPy 1.25.0\u001b[39m\u001b[38;5;124m\"\u001b[39m\n\u001b[0;32m    345\u001b[0m     \u001b[38;5;28;01mraise\u001b[39;00m \u001b[38;5;167;01mRuntimeError\u001b[39;00m(\u001b[38;5;124m\"\u001b[39m\u001b[38;5;124mTester was removed in NumPy 1.25.\u001b[39m\u001b[38;5;124m\"\u001b[39m)\n\u001b[1;32m--> 347\u001b[0m \u001b[38;5;28;01mraise\u001b[39;00m \u001b[38;5;167;01mAttributeError\u001b[39;00m(\u001b[38;5;124m\"\u001b[39m\u001b[38;5;124mmodule \u001b[39m\u001b[38;5;132;01m{!r}\u001b[39;00m\u001b[38;5;124m has no attribute \u001b[39m\u001b[38;5;124m\"\u001b[39m\n\u001b[0;32m    348\u001b[0m                      \u001b[38;5;124m\"\u001b[39m\u001b[38;5;132;01m{!r}\u001b[39;00m\u001b[38;5;124m\"\u001b[39m\u001b[38;5;241m.\u001b[39mformat(\u001b[38;5;18m__name__\u001b[39m, attr))\n",
      "\u001b[1;31mAttributeError\u001b[0m: module 'numpy' has no attribute 'warnings'"
     ]
    }
   ],
   "source": [
    "from ai_benchmark import AIBenchmark\n",
    "benchmark = AIBenchmark()\n",
    "results = benchmark.run()"
   ]
  }
 ],
 "metadata": {
  "kernelspec": {
   "display_name": "base",
   "language": "python",
   "name": "python3"
  },
  "language_info": {
   "codemirror_mode": {
    "name": "ipython",
    "version": 3
   },
   "file_extension": ".py",
   "mimetype": "text/x-python",
   "name": "python",
   "nbconvert_exporter": "python",
   "pygments_lexer": "ipython3",
   "version": "3.12.3"
  }
 },
 "nbformat": 4,
 "nbformat_minor": 5
}
