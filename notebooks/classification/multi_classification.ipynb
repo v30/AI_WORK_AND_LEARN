{
 "cells": [
  {
   "cell_type": "code",
   "execution_count": 1,
   "id": "a0f2689b",
   "metadata": {},
   "outputs": [],
   "source": [
    "# imports\n",
    "import numpy as np\n",
    "import tensorflow as tf\n",
    "import matplotlib.pyplot as plt\n",
    "\n",
    "tf.config.threading.set_intra_op_parallelism_threads(8)\n",
    "tf.config.threading.set_inter_op_parallelism_threads(2)"
   ]
  },
  {
   "cell_type": "code",
   "execution_count": 2,
   "id": "68e17494",
   "metadata": {},
   "outputs": [],
   "source": [
    "# import MNIST dataset using TF\n",
    "(X_train, y_train), (X_test, y_test) = tf.keras.datasets.mnist.load_data()"
   ]
  },
  {
   "cell_type": "code",
   "execution_count": 3,
   "id": "c19a4af3",
   "metadata": {},
   "outputs": [],
   "source": [
    "# prepare the data set\n",
    "\n",
    "# normalize the images to [0, 1]\n",
    "X_train = X_train / 255.0\n",
    "X_test = X_test / 255.0\n",
    "\n",
    "# flatten the imates if using a dense model (or leave as is for CNN)\n",
    "X_train_flat = X_train.reshape(-1, 28 * 28)\n",
    "X_test_flat = X_test.reshape(-1, 28 * 28)"
   ]
  },
  {
   "cell_type": "code",
   "execution_count": 4,
   "id": "4e4443bd",
   "metadata": {},
   "outputs": [
    {
     "name": "stderr",
     "output_type": "stream",
     "text": [
      "c:\\Users\\Gebruiker\\anaconda3\\Lib\\site-packages\\keras\\src\\layers\\reshaping\\reshape.py:39: UserWarning: Do not pass an `input_shape`/`input_dim` argument to a layer. When using Sequential models, prefer using an `Input(shape)` object as the first layer in the model instead.\n",
      "  super().__init__(**kwargs)\n"
     ]
    }
   ],
   "source": [
    "# Build the model\n",
    "# model = tf.keras.Sequential([\n",
    "#     tf.keras.layers.InputLayer(shape=(28*28,)),\n",
    "#     tf.keras.layers.Dense(128, activation='relu'),\n",
    "#     tf.keras.layers.Dense(10, activation='softmax')\n",
    "# ])\n",
    "\n",
    "# Upgrade the model to CNN\n",
    "model = tf.keras.Sequential([\n",
    "    tf.keras.layers.Reshape((28, 28, 1), input_shape=(28*28,)),\n",
    "    tf.keras.layers.Conv2D(32, (3,3), activation='relu'),\n",
    "    tf.keras.layers.MaxPooling2D(),\n",
    "    tf.keras.layers.Conv2D(64, (3,3), activation='relu'),\n",
    "    tf.keras.layers.MaxPooling2D(),\n",
    "    tf.keras.layers.Flatten(),\n",
    "    tf.keras.layers.Dense(64, activation='relu'),\n",
    "    tf.keras.layers.Dense(10, activation='softmax')\n",
    "])\n",
    "\n",
    "# Compile the model\n",
    "model.compile(optimizer='adam', loss='sparse_categorical_crossentropy', metrics=['accuracy'])"
   ]
  },
  {
   "cell_type": "code",
   "execution_count": 5,
   "id": "c2e9be7d",
   "metadata": {},
   "outputs": [
    {
     "name": "stdout",
     "output_type": "stream",
     "text": [
      "Epoch 1/10\n",
      "\u001b[1m1688/1688\u001b[0m \u001b[32m━━━━━━━━━━━━━━━━━━━━\u001b[0m\u001b[37m\u001b[0m \u001b[1m7s\u001b[0m 3ms/step - accuracy: 0.8996 - loss: 0.3452 - val_accuracy: 0.9840 - val_loss: 0.0577\n",
      "Epoch 2/10\n",
      "\u001b[1m1688/1688\u001b[0m \u001b[32m━━━━━━━━━━━━━━━━━━━━\u001b[0m\u001b[37m\u001b[0m \u001b[1m6s\u001b[0m 3ms/step - accuracy: 0.9838 - loss: 0.0507 - val_accuracy: 0.9868 - val_loss: 0.0468\n",
      "Epoch 3/10\n",
      "\u001b[1m1688/1688\u001b[0m \u001b[32m━━━━━━━━━━━━━━━━━━━━\u001b[0m\u001b[37m\u001b[0m \u001b[1m5s\u001b[0m 3ms/step - accuracy: 0.9886 - loss: 0.0349 - val_accuracy: 0.9882 - val_loss: 0.0391\n",
      "Epoch 4/10\n",
      "\u001b[1m1688/1688\u001b[0m \u001b[32m━━━━━━━━━━━━━━━━━━━━\u001b[0m\u001b[37m\u001b[0m \u001b[1m5s\u001b[0m 3ms/step - accuracy: 0.9931 - loss: 0.0218 - val_accuracy: 0.9893 - val_loss: 0.0408\n",
      "Epoch 5/10\n",
      "\u001b[1m1688/1688\u001b[0m \u001b[32m━━━━━━━━━━━━━━━━━━━━\u001b[0m\u001b[37m\u001b[0m \u001b[1m6s\u001b[0m 3ms/step - accuracy: 0.9947 - loss: 0.0158 - val_accuracy: 0.9912 - val_loss: 0.0339\n",
      "Epoch 6/10\n",
      "\u001b[1m1688/1688\u001b[0m \u001b[32m━━━━━━━━━━━━━━━━━━━━\u001b[0m\u001b[37m\u001b[0m \u001b[1m5s\u001b[0m 3ms/step - accuracy: 0.9959 - loss: 0.0124 - val_accuracy: 0.9907 - val_loss: 0.0400\n",
      "Epoch 7/10\n",
      "\u001b[1m1688/1688\u001b[0m \u001b[32m━━━━━━━━━━━━━━━━━━━━\u001b[0m\u001b[37m\u001b[0m \u001b[1m6s\u001b[0m 3ms/step - accuracy: 0.9976 - loss: 0.0082 - val_accuracy: 0.9925 - val_loss: 0.0333\n",
      "Epoch 8/10\n",
      "\u001b[1m1688/1688\u001b[0m \u001b[32m━━━━━━━━━━━━━━━━━━━━\u001b[0m\u001b[37m\u001b[0m \u001b[1m6s\u001b[0m 4ms/step - accuracy: 0.9972 - loss: 0.0089 - val_accuracy: 0.9925 - val_loss: 0.0336\n",
      "Epoch 9/10\n",
      "\u001b[1m1688/1688\u001b[0m \u001b[32m━━━━━━━━━━━━━━━━━━━━\u001b[0m\u001b[37m\u001b[0m \u001b[1m6s\u001b[0m 4ms/step - accuracy: 0.9973 - loss: 0.0078 - val_accuracy: 0.9912 - val_loss: 0.0435\n",
      "Epoch 10/10\n",
      "\u001b[1m1688/1688\u001b[0m \u001b[32m━━━━━━━━━━━━━━━━━━━━\u001b[0m\u001b[37m\u001b[0m \u001b[1m6s\u001b[0m 3ms/step - accuracy: 0.9975 - loss: 0.0070 - val_accuracy: 0.9922 - val_loss: 0.0490\n"
     ]
    },
    {
     "data": {
      "text/plain": [
       "<keras.src.callbacks.history.History at 0x1f5f2265940>"
      ]
     },
     "execution_count": 5,
     "metadata": {},
     "output_type": "execute_result"
    }
   ],
   "source": [
    "# Train my model\n",
    "model.fit(X_train_flat, y_train, epochs=10, validation_split=0.1)"
   ]
  },
  {
   "cell_type": "code",
   "execution_count": 6,
   "id": "d5013367",
   "metadata": {},
   "outputs": [],
   "source": [
    "# TARGET image\n",
    "\n",
    "# Absolute path as a raw string (to avoid backslash issues on Windows)\n",
    "image_path = r\"C:/Users/Gebruiker/Documents/digits/handwritten_0.png\"\n",
    "# Step 1: Read image file\n",
    "raw = tf.io.read_file(image_path)\n",
    "# Step 2: Decode as grayscale image\n",
    "img = tf.image.decode_image(raw, channels=1)\n",
    "# Step 3: Resize to 28×28 (MNIST size)\n",
    "img_resized = tf.image.resize(img, [28, 28])\n",
    "# Step 4: Normalize to [0, 1]\n",
    "img_normalized = tf.image.convert_image_dtype(img_resized, tf.float32)\n",
    "# Final variable\n",
    "target_image = img_normalized.numpy()"
   ]
  },
  {
   "cell_type": "code",
   "execution_count": 7,
   "id": "3fb560f5",
   "metadata": {},
   "outputs": [
    {
     "name": "stdout",
     "output_type": "stream",
     "text": [
      "\u001b[1m1/1\u001b[0m \u001b[32m━━━━━━━━━━━━━━━━━━━━\u001b[0m\u001b[37m\u001b[0m \u001b[1m0s\u001b[0m 59ms/step\n",
      "Probability of 0: 98.44%\n",
      "Probability of 1: 0.00%\n",
      "Probability of 2: 0.00%\n",
      "Probability of 3: 0.00%\n",
      "Probability of 4: 0.50%\n",
      "Probability of 5: 0.00%\n",
      "Probability of 6: 1.03%\n",
      "Probability of 7: 0.03%\n",
      "Probability of 8: 0.00%\n",
      "Probability of 9: 0.00%\n",
      "\n",
      "Predicted Digit: 0\n"
     ]
    }
   ],
   "source": [
    "# Predict and interpret a target image\n",
    "# Normalize and flatten the image\n",
    "target_flat = target_image.reshape(1, 28*28) / 255.0\n",
    "# Get probabilities\n",
    "probs = model.predict(target_flat)[0]\n",
    "# Show probabilities and prediction\n",
    "for digit, prob in enumerate(probs):\n",
    "    print(f\"Probability of {digit}: {prob:.2%}\")\n",
    "predicted_digit = np.argmax(probs)\n",
    "print(f\"\\nPredicted Digit: {predicted_digit}\")\n"
   ]
  },
  {
   "cell_type": "code",
   "execution_count": 8,
   "id": "dc73879a",
   "metadata": {},
   "outputs": [
    {
     "data": {
      "image/png": "[encoded data removed]",
      "text/plain": [
       "<Figure size 640x480 with 1 Axes>"
      ]
     },
     "metadata": {},
     "output_type": "display_data"
    }
   ],
   "source": [
    "# Visualise the target image\n",
    "plt.imshow(target_image, cmap='gray')\n",
    "plt.title(f\"Model Prediction: {predicted_digit}\")\n",
    "plt.axis('off')\n",
    "plt.show()"
   ]
  },
  {
   "cell_type": "code",
   "execution_count": 9,
   "id": "34154a8c",
   "metadata": {},
   "outputs": [
    {
     "name": "stdout",
     "output_type": "stream",
     "text": [
      "\u001b[1m313/313\u001b[0m \u001b[32m━━━━━━━━━━━━━━━━━━━━\u001b[0m\u001b[37m\u001b[0m \u001b[1m0s\u001b[0m 1ms/step\n"
     ]
    },
    {
     "data": {
      "image/png": "[encoded data removed]",
      "text/plain": [
       "<Figure size 640x480 with 2 Axes>"
      ]
     },
     "metadata": {},
     "output_type": "display_data"
    }
   ],
   "source": [
    "# adding a confusion matrix\n",
    "\n",
    "from sklearn.metrics import confusion_matrix\n",
    "import seaborn as sns\n",
    "\n",
    "y_pred = np.argmax(model.predict(X_test_flat), axis=1)\n",
    "cm = confusion_matrix(y_test, y_pred)\n",
    "\n",
    "sns.heatmap(cm, annot=True, fmt=\"d\", cmap=\"Blues\")\n",
    "plt.xlabel(\"Predicted\")\n",
    "plt.ylabel(\"Actual\")\n",
    "plt.title(\"Confusion Matrix\")\n",
    "plt.show()"
   ]
  },
  {
   "cell_type": "markdown",
   "id": "36f3a00d",
   "metadata": {},
   "source": [
    "Questions:\n",
    "\n",
    "1. why flatten images if using a dense model and leave it as is for CNN?\n",
    "2. explain the normalizing X_train / 255.0\n",
    "3. how to store an image in python into a variable called target_image\n",
    "```\n",
    "# Absolute path as a raw string (to avoid backslash issues on Windows)\n",
    "image_path = r\"/Users/owen/Documents/digits/handwritten_1.png\"\n",
    "# Step 1: Read image file\n",
    "raw = tf.io.read_file(image_path)\n",
    "# Step 2: Decode as grayscale image\n",
    "img = tf.image.decode_image(raw, channels=1)\n",
    "# Step 3: Resize to 28×28 (MNIST size)\n",
    "img_resized = tf.image.resize(img, [28, 28])\n",
    "# Step 4: Normalize to [0, 1]\n",
    "img_normalized = tf.image.convert_image_dtype(img_resized, tf.float32)\n",
    "# Final variable\n",
    "target_image = img_normalized.numpy()\n",
    "```"
   ]
  }
 ],
 "metadata": {
  "kernelspec": {
   "display_name": "base",
   "language": "python",
   "name": "python3"
  },
  "language_info": {
   "codemirror_mode": {
    "name": "ipython",
    "version": 3
   },
   "file_extension": ".py",
   "mimetype": "text/x-python",
   "name": "python",
   "nbconvert_exporter": "python",
   "pygments_lexer": "ipython3",
   "version": "3.12.3"
  }
 },
 "nbformat": 4,
 "nbformat_minor": 5
}
