{
 "cells": [
  {
   "cell_type": "code",
   "execution_count": 38,
   "id": "80720f3d",
   "metadata": {},
   "outputs": [],
   "source": [
    "# imports\n",
    "import numpy as np\n",
    "import matplotlib.pyplot as plt"
   ]
  },
  {
   "cell_type": "markdown",
   "id": "d3418681",
   "metadata": {},
   "source": [
    "Now we need to simulate realistic data, the model will use hours studied data to train and predict if a student will pass\n",
    "\n",
    "Question:\n",
    "1. What is a bias term?\n",
    "    - In machine learning, a bias term is like the starting point or offset in your model’s predictions—it's what allows the model to make a non-zero prediction even when all input features are zero.\n",
    "    - Think of it this way: if you're predicting test scores based on study hours, but even someone who studied zero hours still scores a few points just for showing up, the bias accounts for that baseline value."
   ]
  },
  {
   "cell_type": "code",
   "execution_count": 39,
   "id": "b4a9354c",
   "metadata": {},
   "outputs": [
    {
     "name": "stdout",
     "output_type": "stream",
     "text": [
      "[[0]\n",
      " [0]\n",
      " [0]\n",
      " [0]\n",
      " [0]\n",
      " [1]\n",
      " [1]\n",
      " [1]\n",
      " [1]\n",
      " [1]]\n"
     ]
    }
   ],
   "source": [
    "# Each row: [hours_studied], label: 1 = pass, 0 = fail\n",
    "study_hours = np.array([0.5, 1.0, 1.5, 2.0, 3.0, 3.5, 4.5, 5.0, 6.0, 6.5])\n",
    "# print(study_hours)\n",
    "# print(study_hours.reshape(-1, 1))\n",
    "labels = np.array([0, 0, 0, 0, 0, 1, 1, 1, 1, 1])  # 0 = fail, 1 = pass\n",
    "\n",
    "# Add bias term\n",
    "# np.ones creates a numpy array, a column vector with every element set to 1\n",
    "# np.c_ combines the 2 arrays\n",
    "\n",
    "# print(np.ones((len(study_hours), 1)))\n",
    "X = np.c_[np.ones((len(study_hours), 1)), study_hours.reshape(-1, 1)]\n",
    "# print(X)\n",
    "\n",
    "# same thing here, it takes the labels which is a flat list, turns it into a column\n",
    "# print(labels)\n",
    "y = labels.reshape(-1, 1)\n",
    "Y = np.c_[np.ones((len(y), 1)), y]\n",
    "print(y)"
   ]
  },
  {
   "cell_type": "markdown",
   "id": "b11bff76",
   "metadata": {},
   "source": [
    "Questions to ask:\n",
    "1. What does `X.reshape(-1, 1)` do?\n",
    "    - It transforms a one-dimensional array into a two-dimensional column vector. That -1 is Python shorthand—it tells NumPy, “You figure out the right number of rows based on the length of the array.”\n",
    "    - So instead of a flat row of values, you now have (n) rows and one column. This is super useful when preparing data for machine learning, where models expect 2D input (even if there's only one feature).\n",
    "    - see above print outputs\n",
    "2. What does `np.ones` do?\n",
    "    - np.ones() creates a new numpy array in the dimensions specified `np.ones(3, 1)` will be a `3 x 1` array. This is a column vector where every element is 1\n",
    "    - in our case it will create the same number of elements in the array as the `len(study_hours)`, the value of each element will be set to 1\n",
    "3. What does `np.c_` do?\n",
    "    - In NumPy, `np.c_[]` is a handy shortcut for concatenating arrays along the second axis (columns)—think of it like sticking arrays side by side horizontally.\n",
    "    - It's often used to add a bias term (a column of 1s) or to combine multiple 1D arrays into a 2D matrix.\n",
    "4. Why are we turning a flat array into a column of values in the code example. What are the benefits? is it absolutely necessary\n",
    "    - Reshaping a flat array into a column isn't always absolutely necessary, but in many cases (especially in machine learning), it really helps everything play nicely.\n",
    "    - A flat array like this `np.array([1, 2, 3])` has shape (3,), meaning it's 1D with 3 elements. But machine learning models, matrix operations, and broadcasting rules often expect 2D arrays where each row is a sample and each column is a feature.\n",
    "    - So reshaping it X = X.reshape(-1, 1) turns it into a vector making it\n",
    "```\n",
    "    [[1],\n",
    "     [2],\n",
    "     [3]]\n",
    "row         col(feature: name)          col(feature: age)           col (feature: salary)\n",
    "1           owen                        42                          R2500\n",
    "```\n",
    "\n",
    "NB!!! See output above to make sense\n",
    "\n",
    "Next step is to define the sigmoid, loss, and training"
   ]
  },
  {
   "cell_type": "code",
   "execution_count": 40,
   "id": "794d703b",
   "metadata": {},
   "outputs": [],
   "source": [
    "def sigmoid(z):\n",
    "    return 1/(1 + np.exp(-z))\n",
    "\n",
    "def loss(y_true, y_pred):\n",
    "    epsilon = 1e-10\n",
    "    return -np.mean(y_true * np.log(y_pred + epsilon) + (1 - y_true) * np.log(1 - y_pred + epsilon))\n",
    "\n",
    "def train(X, y, lr=0.1, epochs=1000):\n",
    "    weights = np.zeros((X.shape[1], 1))\n",
    "    for _ in range(epochs):\n",
    "        z = X @ weights\n",
    "        pred = sigmoid(z)\n",
    "        gradient = X.T @ (pred - y) / len(y)\n",
    "        weights -= lr * gradient\n",
    "    return weights"
   ]
  },
  {
   "cell_type": "markdown",
   "id": "d0a005ee",
   "metadata": {},
   "source": [
    "Questions:\n",
    "1. What does `epsilon = 1e-10` do?\n",
    "    - It creates a very small number. It's used in the loss function to avoid a mathematical disaster—specifically, taking the logarithm of zero\n",
    "2. What are `epochs` in the code?\n",
    "    - In our example, `epochs` refer to the number of full passes your model makes through the entire dataset during training.\n",
    "    - Imagine teaching a dog a trick: one epoch is like walking through the full lesson plan once—repeating the training examples and updating the model’s \"understanding\" based on the errors it makes.\n",
    "    \n",
    "Now we need to train the model"
   ]
  },
  {
   "cell_type": "code",
   "execution_count": 41,
   "id": "3760d80b",
   "metadata": {},
   "outputs": [],
   "source": [
    "weights = train(X, y)\n",
    "\n",
    "def predict(X, weights):\n",
    "    return sigmoid(X @ weights) >= 0.5"
   ]
  },
  {
   "cell_type": "markdown",
   "id": "c21efba0",
   "metadata": {},
   "source": [
    "Now we visualize the results\n",
    "\n",
    "Questions:\n",
    "1. What is linspace()\n",
    "2. What does reshape() do?\n",
    "3. What does this line do? y_vals = sigmoid(x_plot @ weights)\n"
   ]
  },
  {
   "cell_type": "code",
   "execution_count": 42,
   "id": "28c9bc5d",
   "metadata": {},
   "outputs": [
    {
     "data": {
      "image/png": "[encoded data removed]",
      "text/plain": [
       "<Figure size 640x480 with 1 Axes>"
      ]
     },
     "metadata": {},
     "output_type": "display_data"
    }
   ],
   "source": [
    "x_vals = np.linspace(0, 7, 100)\n",
    "x_plot = np.c_[np.ones((len(x_vals), 1)), x_vals.reshape(-1, 1)]\n",
    "y_vals = sigmoid(x_plot @ weights)\n",
    "\n",
    "plt.scatter(study_hours, labels, c=labels.ravel(), cmap='bwr', label='Data')\n",
    "plt.plot(x_vals, y_vals, color='black', label='Sigmoid Fit')\n",
    "plt.xlabel(\"Hours studied\")\n",
    "plt.ylabel(\"Prob of passing\")\n",
    "plt.title(\"Study Time : Pass Prob\")\n",
    "plt.legend()\n",
    "plt.grid(True)\n",
    "plt.show()"
   ]
  },
  {
   "cell_type": "markdown",
   "id": "81e40bd8",
   "metadata": {},
   "source": [
    "Now we are going to try to predict using 15 hours of study and a bias of 1 to stop a true 0 for happening"
   ]
  },
  {
   "cell_type": "code",
   "execution_count": 44,
   "id": "4769c717",
   "metadata": {},
   "outputs": [
    {
     "name": "stdout",
     "output_type": "stream",
     "text": [
      "Probability of passing:  0.820937457295982\n",
      "[[0.82093746]]\n",
      "Predicted outcome (1 = pass, 0 = fail): 1\n"
     ]
    }
   ],
   "source": [
    "# New data: 15 hours of study\n",
    "new_study = np.array([[1, 4]])\n",
    "\n",
    "# Use the sigmoig to get the probability\n",
    "prob = sigmoid(new_study @ weights)\n",
    "print(\"Probability of passing: \", prob[0][0])\n",
    "print(prob)\n",
    "\n",
    "# Use the predict function to classify\n",
    "outcome = predict(new_study, weights)\n",
    "print(\"Predicted outcome (1 = pass, 0 = fail):\", int(outcome[0][0]))"
   ]
  }
 ],
 "metadata": {
  "kernelspec": {
   "display_name": "base",
   "language": "python",
   "name": "python3"
  },
  "language_info": {
   "codemirror_mode": {
    "name": "ipython",
    "version": 3
   },
   "file_extension": ".py",
   "mimetype": "text/x-python",
   "name": "python",
   "nbconvert_exporter": "python",
   "pygments_lexer": "ipython3",
   "version": "3.12.3"
  }
 },
 "nbformat": 4,
 "nbformat_minor": 5
}
