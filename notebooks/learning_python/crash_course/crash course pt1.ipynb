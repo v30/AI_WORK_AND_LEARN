{
 "cells": [
  {
   "cell_type": "code",
   "execution_count": 1,
   "id": "45b0e1db",
   "metadata": {},
   "outputs": [
    {
     "data": {
      "text/plain": [
       "0.25"
      ]
     },
     "execution_count": 1,
     "metadata": {},
     "output_type": "execute_result"
    }
   ],
   "source": [
    "1/2**2"
   ]
  },
  {
   "cell_type": "code",
   "execution_count": 2,
   "id": "69398f8d",
   "metadata": {},
   "outputs": [
    {
     "data": {
      "text/plain": [
       "3"
      ]
     },
     "execution_count": 2,
     "metadata": {},
     "output_type": "execute_result"
    }
   ],
   "source": [
    "x = 2\n",
    "# y = '1'           # Error, cannot concat string and int\n",
    "y = 1\n",
    "\n",
    "x + y"
   ]
  },
  {
   "cell_type": "markdown",
   "id": "ee1fdf4f",
   "metadata": {},
   "source": [
    "Python Slicing\n",
    "\n",
    "sequence[start:stop:step]"
   ]
  },
  {
   "cell_type": "code",
   "execution_count": 3,
   "id": "529a9236",
   "metadata": {},
   "outputs": [
    {
     "name": "stdout",
     "output_type": "stream",
     "text": [
      "[1, 2, 3, 4, 5]\n",
      "[4, 5]\n",
      "[1, 2, 3]\n",
      "[1, 4]\n",
      "[1, 3, 5]\n",
      "[1, 2, 3, 4, 5]\n",
      "efghijkl\n",
      "efghijkl\n"
     ]
    }
   ],
   "source": [
    "arr = [1, 2, 3, 4, 5]\n",
    "\n",
    "print(arr[::])              # Prints all, nothing set       OUTPUT: [1, 2, 3, 4, 5]\n",
    "print(arr[3::])             # Prints all from index 3       OUTPUT: [4, 5]\n",
    "print(arr[:3:])             # Prints from 0 to index 3      OUTPUT: [1, 2, 3]\n",
    "print(arr[::3])             # Always prints the start parameter and then the amount of steps        OUTPUT: [1, 4]\n",
    "print(arr[:6:2])            # Prints every 2nd character    OUTPUT: [1, 3, 5]\n",
    "print(arr[0:6:1])           # Prints all, nothing set       OUTPUT: [1, 2, 3, 4, 5]\n",
    "\n",
    "# this applies exactly the same to any other sequences including strings\n",
    "var = \"abcdefghijkl\"\n",
    "print(var[4:13:1])          # Prints from e up to l         OUTPUT: efghijkl\n",
    "\n",
    "# can append the step to default to 1\n",
    "print(var[4:13])            # Prints from e up to l         OUTPUT: efghijkl\n"
   ]
  },
  {
   "cell_type": "code",
   "execution_count": 4,
   "id": "a0a29562",
   "metadata": {},
   "outputs": [
    {
     "name": "stdout",
     "output_type": "stream",
     "text": [
      "value1\n",
      "1\n",
      "hello\n"
     ]
    }
   ],
   "source": [
    "d = {'key1':'value1'}\n",
    "\n",
    "print(d['key1'])\n",
    "\n",
    "d = {'k1':[1,2,3]}\n",
    "\n",
    "print(d['k1'][0])\n",
    "\n",
    "d = {'k1':{'ik1':\"hello\", 'ik2':\"world\"}}\n",
    "\n",
    "print(d['k1']['ik1'])"
   ]
  },
  {
   "cell_type": "code",
   "execution_count": 5,
   "id": "0eaf9b58",
   "metadata": {},
   "outputs": [
    {
     "name": "stdout",
     "output_type": "stream",
     "text": [
      "2\n",
      "2\n",
      "5\n"
     ]
    }
   ],
   "source": [
    "# tuple is immutable\n",
    "t = (1,2,3)\n",
    "print(t[1])\n",
    "\n",
    "# this will give an error no matter what we assign it to. It is immutable\n",
    "# t[2] = 5\n",
    "\n",
    "# in a list you can change it\n",
    "my_list = [1,2,3]\n",
    "print(my_list[1])\n",
    "\n",
    "my_list[2] = 5\n",
    "print(my_list[2])"
   ]
  },
  {
   "cell_type": "markdown",
   "id": "1830a4e3",
   "metadata": {},
   "source": [
    "Use a tuple when you have to ensure the values remain the same and use a list when you need to change values"
   ]
  },
  {
   "cell_type": "code",
   "execution_count": 6,
   "id": "7a8aeb86",
   "metadata": {},
   "outputs": [
    {
     "name": "stdout",
     "output_type": "stream",
     "text": [
      "{1, 2, 3, 4, 5}\n",
      "{1, 2, 3, 4, 5}\n",
      "[1, 1, 1, 2, 2, 2, 3, 3, 3, 4, 4, 4, 5, 5, 5]\n",
      "{1, 2, 3, 4, 5}\n",
      "{1, 2, 3, 4, 5, 9}\n"
     ]
    }
   ],
   "source": [
    "# set looks the same a dictionary but does not use key value, only the values\n",
    "# also only stores unique values\n",
    "s = {1,2,3,4,5}\n",
    "print(s)\n",
    "\n",
    "s = {1,1,1,2,2,2,3,3,3,4,4,4,5,5,5}\n",
    "print(s)\n",
    "\n",
    "lst = [1,1,1,2,2,2,3,3,3,4,4,4,5,5,5]\n",
    "print(lst)\n",
    "\n",
    "# use the set() function and pass in the list as a parameter to get the unique values\n",
    "a = set(lst)\n",
    "print(a)\n",
    "\n",
    "# you can add items to the set\n",
    "a.add(9)\n",
    "print(a)"
   ]
  }
 ],
 "metadata": {
  "kernelspec": {
   "display_name": "base",
   "language": "python",
   "name": "python3"
  },
  "language_info": {
   "codemirror_mode": {
    "name": "ipython",
    "version": 3
   },
   "file_extension": ".py",
   "mimetype": "text/x-python",
   "name": "python",
   "nbconvert_exporter": "python",
   "pygments_lexer": "ipython3",
   "version": "3.12.3"
  }
 },
 "nbformat": 4,
 "nbformat_minor": 5
}
